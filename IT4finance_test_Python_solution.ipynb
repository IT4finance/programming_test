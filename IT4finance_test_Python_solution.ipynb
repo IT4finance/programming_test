{
 "cells": [
  {
   "cell_type": "code",
   "execution_count": 1,
   "metadata": {},
   "outputs": [],
   "source": [
    "# Задание 1\n",
    "\n",
    "# Верно: Pandas"
   ]
  },
  {
   "cell_type": "code",
   "execution_count": 2,
   "metadata": {},
   "outputs": [
    {
     "name": "stdout",
     "output_type": "stream",
     "text": [
      "<class 'list'>\n",
      "[True, True]\n",
      "10\n"
     ]
    }
   ],
   "source": [
    "# Задание 2\n",
    "\n",
    "x=[10,'fail',True]\n",
    "print(type(x))\n",
    "print([x[2],x[-1]])\n",
    "print(x[0])"
   ]
  },
  {
   "cell_type": "code",
   "execution_count": 3,
   "metadata": {},
   "outputs": [
    {
     "name": "stdout",
     "output_type": "stream",
     "text": [
      "[1, 2, 0, 4]\n"
     ]
    }
   ],
   "source": [
    "# Задание 3\n",
    "\n",
    "x=[1,2,3,4]\n",
    "y=x\n",
    "x[2]=0\n",
    "print(y)"
   ]
  },
  {
   "cell_type": "code",
   "execution_count": 4,
   "metadata": {},
   "outputs": [
    {
     "name": "stdout",
     "output_type": "stream",
     "text": [
      "Введите целое число: целое число\n",
      "<class 'str'>\n"
     ]
    },
    {
     "ename": "ValueError",
     "evalue": "invalid literal for int() with base 10: 'целое число'",
     "output_type": "error",
     "traceback": [
      "\u001b[1;31m---------------------------------------------------------------------------\u001b[0m",
      "\u001b[1;31mValueError\u001b[0m                                Traceback (most recent call last)",
      "\u001b[1;32m<ipython-input-4-0da378099a33>\u001b[0m in \u001b[0;36m<module>\u001b[1;34m\u001b[0m\n\u001b[0;32m      3\u001b[0m \u001b[0mx\u001b[0m\u001b[1;33m=\u001b[0m\u001b[0minput\u001b[0m\u001b[1;33m(\u001b[0m\u001b[1;34m'Введите целое число: '\u001b[0m\u001b[1;33m)\u001b[0m\u001b[1;33m\u001b[0m\u001b[1;33m\u001b[0m\u001b[0m\n\u001b[0;32m      4\u001b[0m \u001b[0mprint\u001b[0m\u001b[1;33m(\u001b[0m\u001b[0mtype\u001b[0m\u001b[1;33m(\u001b[0m\u001b[0mx\u001b[0m\u001b[1;33m)\u001b[0m\u001b[1;33m)\u001b[0m\u001b[1;33m\u001b[0m\u001b[1;33m\u001b[0m\u001b[0m\n\u001b[1;32m----> 5\u001b[1;33m \u001b[0mprint\u001b[0m\u001b[1;33m(\u001b[0m\u001b[0mint\u001b[0m\u001b[1;33m(\u001b[0m\u001b[0mx\u001b[0m\u001b[1;33m)\u001b[0m\u001b[1;33m)\u001b[0m\u001b[1;33m\u001b[0m\u001b[1;33m\u001b[0m\u001b[0m\n\u001b[0m",
      "\u001b[1;31mValueError\u001b[0m: invalid literal for int() with base 10: 'целое число'"
     ]
    }
   ],
   "source": [
    "# Задание 4 - минимальный пример засчитываемого ответа\n",
    "\n",
    "x=input('Введите целое число: ')\n",
    "print(type(x))\n",
    "print(int(x))"
   ]
  },
  {
   "cell_type": "code",
   "execution_count": 5,
   "metadata": {},
   "outputs": [
    {
     "name": "stdout",
     "output_type": "stream",
     "text": [
      "[[1 2 3 4]\n",
      " [3 4 2 1]\n",
      " [3 4 1 2]]\n",
      "[[3 4]\n",
      " [3 4]]\n"
     ]
    },
    {
     "data": {
      "text/plain": [
       "array([[21, 28],\n",
       "       [21, 28]])"
      ]
     },
     "execution_count": 5,
     "metadata": {},
     "output_type": "execute_result"
    }
   ],
   "source": [
    "# Задание 5\n",
    "\n",
    "import numpy as np\n",
    "# a\n",
    "x=np.array([[1, 2, 3, 4],[3,4,2,1],[3,4,1,2]])\n",
    "print(x)\n",
    "# b\n",
    "print(x[1:,:2])\n",
    "# c\n",
    "np.dot(x[1:,:2],x[1:,:2])"
   ]
  },
  {
   "cell_type": "code",
   "execution_count": 6,
   "metadata": {},
   "outputs": [
    {
     "data": {
      "text/plain": [
       "0"
      ]
     },
     "execution_count": 6,
     "metadata": {},
     "output_type": "execute_result"
    }
   ],
   "source": [
    "# Задание 6\n",
    "\n",
    "def my_fun(x,y):\n",
    "    t=0\n",
    "    while x<100 and t!=10:\n",
    "        x+=y\n",
    "        t+=1\n",
    "    return(x)\n",
    "\n",
    "my_fun(10,-1)"
   ]
  },
  {
   "cell_type": "code",
   "execution_count": 7,
   "metadata": {},
   "outputs": [
    {
     "data": {
      "text/html": [
       "<div>\n",
       "<style scoped>\n",
       "    .dataframe tbody tr th:only-of-type {\n",
       "        vertical-align: middle;\n",
       "    }\n",
       "\n",
       "    .dataframe tbody tr th {\n",
       "        vertical-align: top;\n",
       "    }\n",
       "\n",
       "    .dataframe thead th {\n",
       "        text-align: right;\n",
       "    }\n",
       "</style>\n",
       "<table border=\"1\" class=\"dataframe\">\n",
       "  <thead>\n",
       "    <tr style=\"text-align: right;\">\n",
       "      <th></th>\n",
       "      <th>Name</th>\n",
       "      <th>Address</th>\n",
       "      <th>Gender</th>\n",
       "      <th>Income</th>\n",
       "    </tr>\n",
       "  </thead>\n",
       "  <tbody>\n",
       "    <tr>\n",
       "      <th>0</th>\n",
       "      <td>John</td>\n",
       "      <td>\"NY, X Ave, 11 \"</td>\n",
       "      <td>\"M\"</td>\n",
       "      <td>10000</td>\n",
       "    </tr>\n",
       "    <tr>\n",
       "      <th>1</th>\n",
       "      <td>Mike</td>\n",
       "      <td>\"NJ, Y Ave, 2333\"</td>\n",
       "      <td>\"M\"</td>\n",
       "      <td>2334</td>\n",
       "    </tr>\n",
       "    <tr>\n",
       "      <th>2</th>\n",
       "      <td>Lucy</td>\n",
       "      <td>\"CA, Z Ave, 232e4\"</td>\n",
       "      <td>\"F\"</td>\n",
       "      <td>23232</td>\n",
       "    </tr>\n",
       "  </tbody>\n",
       "</table>\n",
       "</div>"
      ],
      "text/plain": [
       "   Name              Address  Gender  Income\n",
       "0  John     \"NY, X Ave, 11 \"     \"M\"   10000\n",
       "1  Mike    \"NJ, Y Ave, 2333\"     \"M\"    2334\n",
       "2  Lucy   \"CA, Z Ave, 232e4\"     \"F\"   23232"
      ]
     },
     "execution_count": 7,
     "metadata": {},
     "output_type": "execute_result"
    }
   ],
   "source": [
    "# Задание 7 -  минимальный пример засчитываемого\n",
    "\n",
    "# Грузит из рабочей директории\n",
    "import pandas as pd\n",
    "pd.read_csv('test.csv',sep=';')"
   ]
  },
  {
   "cell_type": "code",
   "execution_count": 18,
   "metadata": {},
   "outputs": [
    {
     "name": "stdout",
     "output_type": "stream",
     "text": [
      "pass    3\n",
      "fail    3\n",
      "Name: result, dtype: int64\n",
      "5.5\n",
      "     name  grade  pr_grade result\n",
      "1  Динара    6.0         5   pass\n",
      "2   Давид    8.0        10   pass\n"
     ]
    }
   ],
   "source": [
    "# Задание 8\n",
    "\n",
    "import pandas as pd\n",
    "data  = {'name':       ['Иван', 'Динара', 'Давид', 'Мария', 'Игорь', 'Равиль'],\n",
    "        'grade':       [3, 6, 8, np.nan, 5, np.nan],\n",
    "        'pr_grade':    [4, 5, 10, 5, 6, 1],\n",
    "        'result':      ['fail', 'pass', 'pass', 'fail', 'pass', 'fail']}\n",
    "# 1\n",
    "exam=pd.DataFrame(data)\n",
    "# 2\n",
    "print(exam['result'].value_counts())\n",
    "# так тоже бы засчиталось, хоть в этом варианте есть нюансы\n",
    "exam.groupby('result').count() \n",
    "\n",
    "# 3\n",
    "mgrade=exam['grade'].mean()\n",
    "print(mgrade)\n",
    "# 4\n",
    "print(exam[exam['grade']>mgrade])"
   ]
  },
  {
   "cell_type": "code",
   "execution_count": 11,
   "metadata": {},
   "outputs": [
    {
     "data": {
      "image/png": "[encoded data removed]",
      "text/plain": [
       "<Figure size 432x288 with 1 Axes>"
      ]
     },
     "metadata": {
      "needs_background": "light"
     },
     "output_type": "display_data"
    },
    {
     "data": {
      "image/png": "[encoded data removed]",
      "text/plain": [
       "<Figure size 432x288 with 1 Axes>"
      ]
     },
     "metadata": {
      "needs_background": "light"
     },
     "output_type": "display_data"
    }
   ],
   "source": [
    "# Задание 9\n",
    "\n",
    "import matplotlib.pyplot as plt\n",
    "\n",
    "x=range(6)\n",
    "plt.bar(x,exam['grade'])\n",
    "plt.xticks(x,exam['name'])\n",
    "plt.show()\n",
    "\n",
    "plt.plot(exam['pr_grade'],exam['grade'], marker='x')\n",
    "plt.xlabel('Марат')\n",
    "plt.ylabel('Курбангалеев')\n",
    "plt.title('IT4finance')\n",
    "plt.show()\n",
    "\n",
    "# На графиках видно, как отразились значения NaN."
   ]
  },
  {
   "cell_type": "code",
   "execution_count": null,
   "metadata": {},
   "outputs": [],
   "source": [
    "# Задание 10\n",
    "\n",
    "plt.plot(exam['pr_grade'],exam['grade'], marker='x')\n",
    "plt.xlabel('Марат')\n",
    "plt.ylabel('Курбангалеев')\n",
    "plt.title('IT4finance')\n",
    "\n",
    "# Сохранить в рабочу директорию\n",
    "path=\"\";\n",
    "name='fig';\n",
    "plt.savefig(path+name+'.png')"
   ]
  }
 ],
 "metadata": {
  "kernelspec": {
   "display_name": "Python 3",
   "language": "python",
   "name": "python3"
  },
  "language_info": {
   "codemirror_mode": {
    "name": "ipython",
    "version": 3
   },
   "file_extension": ".py",
   "mimetype": "text/x-python",
   "name": "python",
   "nbconvert_exporter": "python",
   "pygments_lexer": "ipython3",
   "version": "3.7.3"
  }
 },
 "nbformat": 4,
 "nbformat_minor": 2
}
