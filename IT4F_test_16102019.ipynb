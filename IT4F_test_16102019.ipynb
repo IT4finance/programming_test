{
 "cells": [
  {
   "cell_type": "code",
   "execution_count": 1,
   "metadata": {},
   "outputs": [],
   "source": [
    "# Задание 1\n",
    "\n",
    "# Какие библиотеки позволяют создавать следующие объекты: \n",
    "# 1) fig - matplotlib\n",
    "# 2) Series - pandas\n",
    "# 3) arange - numpy"
   ]
  },
  {
   "cell_type": "code",
   "execution_count": 2,
   "metadata": {},
   "outputs": [
    {
     "name": "stdout",
     "output_type": "stream",
     "text": [
      "<class 'dict'>\n",
      "['Y']\n",
      "[5, 6]\n"
     ]
    }
   ],
   "source": [
    "# Задание 2\n",
    "import numpy as np\n",
    "\n",
    "pr  = { 'label':   ['X', 'Y', 'Z'],\n",
    "        'sets':    [[1,2,3], [4,5,6],[7,8,9]],\n",
    "        'tol':     2}\n",
    "\n",
    "print(type(pr))\n",
    "print(pr['label'][1:2])\n",
    "print(pr['sets'][1][1:])"
   ]
  },
  {
   "cell_type": "code",
   "execution_count": 3,
   "metadata": {},
   "outputs": [
    {
     "name": "stdout",
     "output_type": "stream",
     "text": [
      "15\n",
      "hahaha\n"
     ]
    }
   ],
   "source": [
    "# Задание 3\n",
    "\n",
    "x=5\n",
    "x*=3\n",
    "print(x)\n",
    "x='ha'\n",
    "x*=3\n",
    "print(x)"
   ]
  },
  {
   "cell_type": "code",
   "execution_count": 4,
   "metadata": {},
   "outputs": [
    {
     "name": "stdout",
     "output_type": "stream",
     "text": [
      "Введите имя: new_name\n",
      "<class 'str'>\n",
      "['Marat', 'new_name']\n"
     ]
    }
   ],
   "source": [
    "# Задание 4\n",
    "\n",
    "names=['Marat'];\n",
    "name=input('Введите имя: ')\n",
    "print(type(name)) # <- формат ввода str\n",
    "\n",
    "if name!='':   \n",
    "    names.append(name)\n",
    "print(names)\n",
    "\n",
    "# Пример альтернативного условя на input +  условие, запрещающее дубликаты с скиске names.\n",
    "# if len(name)>0  and name not in names: \n",
    "#         names+=[name]\n",
    "# print(names)"
   ]
  },
  {
   "cell_type": "code",
   "execution_count": 5,
   "metadata": {},
   "outputs": [
    {
     "name": "stdout",
     "output_type": "stream",
     "text": [
      "[[  1   2   3   4   5   6   7   8   9  10]\n",
      " [ 11  12  13  14  15  16  17  18  19  20]\n",
      " [ 21  22  23  24  25  26  27  28  29  30]\n",
      " [ 31  32  33  34  35  36  37  38  39  40]\n",
      " [ 41  42  43  44  45  46  47  48  49  50]\n",
      " [ 51  52  53  54  55  56  57  58  59  60]\n",
      " [ 61  62  63  64  65  66  67  68  69  70]\n",
      " [ 71  72  73  74  75  76  77  78  79  80]\n",
      " [ 81  82  83  84  85  86  87  88  89  90]\n",
      " [ 91  92  93  94  95  96  97  98  99 100]]\n",
      "[[ 1  0  3  0  5  0  7  0  9  0]\n",
      " [11  0 13  0 15  0 17  0 19  0]\n",
      " [21  0 23  0 25  0 27  0 29  0]\n",
      " [31  0 33  0 35  0 37  0 39  0]\n",
      " [41  0 43  0 45  0 47  0 49  0]\n",
      " [51  0 53  0 55  0 57  0 59  0]\n",
      " [61  0 63  0 65  0 67  0 69  0]\n",
      " [71  0 73  0 75  0 77  0 79  0]\n",
      " [81  0 83  0 85  0 87  0 89  0]\n",
      " [91  0 93  0 95  0 97  0 99  0]]\n"
     ]
    }
   ],
   "source": [
    "# Задание 5\n",
    "import numpy as np\n",
    "\n",
    "# а) \n",
    "x=np.arange(1,101).reshape(10,10)\n",
    "print (x)\n",
    "\n",
    "# b)\n",
    "x[x%2==0]=0\n",
    "print(x)"
   ]
  },
  {
   "cell_type": "code",
   "execution_count": 6,
   "metadata": {},
   "outputs": [
    {
     "name": "stdout",
     "output_type": "stream",
     "text": [
      "(99, 1)\n",
      "(51, 0)\n"
     ]
    }
   ],
   "source": [
    "# Задание 6\n",
    "\n",
    "def my_fun(x,y):\n",
    "    while abs(x-y)<=50:\n",
    "        x,y=x+y,x-y\n",
    "    return(x,y)\n",
    "\n",
    "# или\n",
    "\n",
    "# def my_fun(x,y):\n",
    "#     while abs(x-y)<=50:\n",
    "#         a=x\n",
    "#         b=y\n",
    "#         x=a+b\n",
    "#         y=a-b\n",
    "#     return(x,y)\n",
    "\n",
    "print(my_fun(50,49))\n",
    "print(my_fun(51,0))"
   ]
  },
  {
   "cell_type": "code",
   "execution_count": 7,
   "metadata": {},
   "outputs": [
    {
     "name": "stdout",
     "output_type": "stream",
     "text": [
      "<class 'pandas.core.frame.DataFrame'>\n"
     ]
    },
    {
     "data": {
      "text/html": [
       "<div>\n",
       "<style scoped>\n",
       "    .dataframe tbody tr th:only-of-type {\n",
       "        vertical-align: middle;\n",
       "    }\n",
       "\n",
       "    .dataframe tbody tr th {\n",
       "        vertical-align: top;\n",
       "    }\n",
       "\n",
       "    .dataframe thead th {\n",
       "        text-align: right;\n",
       "    }\n",
       "</style>\n",
       "<table border=\"1\" class=\"dataframe\">\n",
       "  <thead>\n",
       "    <tr style=\"text-align: right;\">\n",
       "      <th></th>\n",
       "      <th>Name; Gender; Address (City</th>\n",
       "      <th>Street</th>\n",
       "      <th>Home); Income</th>\n",
       "    </tr>\n",
       "  </thead>\n",
       "  <tbody>\n",
       "    <tr>\n",
       "      <th>0</th>\n",
       "      <td>John; M; NY</td>\n",
       "      <td>X Ave</td>\n",
       "      <td>11;  10000</td>\n",
       "    </tr>\n",
       "    <tr>\n",
       "      <th>1</th>\n",
       "      <td>Mike; M; NJ</td>\n",
       "      <td>Y Ave</td>\n",
       "      <td>13;  19000</td>\n",
       "    </tr>\n",
       "    <tr>\n",
       "      <th>2</th>\n",
       "      <td>Emma; F; CA</td>\n",
       "      <td>Z Ave</td>\n",
       "      <td>16;  15000</td>\n",
       "    </tr>\n",
       "  </tbody>\n",
       "</table>\n",
       "</div>"
      ],
      "text/plain": [
       "  Name; Gender; Address (City  Street  Home); Income\n",
       "0                 John; M; NY   X Ave     11;  10000\n",
       "1                 Mike; M; NJ   Y Ave     13;  19000\n",
       "2                 Emma; F; CA   Z Ave     16;  15000"
      ]
     },
     "execution_count": 7,
     "metadata": {},
     "output_type": "execute_result"
    }
   ],
   "source": [
    "# Задание 7\n",
    "\n",
    "import pandas as pd\n",
    "\n",
    "df=pd.read_csv('test.csv',sep=',')\n",
    "print(type(df))\n",
    "df"
   ]
  },
  {
   "cell_type": "code",
   "execution_count": 8,
   "metadata": {},
   "outputs": [
    {
     "name": "stdout",
     "output_type": "stream",
     "text": [
      "E2    2\n",
      "E3    2\n",
      "E1    1\n",
      "Name: issuer, dtype: int64\n",
      "  bond_name issuer  maturity  amt_outstanding  coupon mat_segment\n",
      "0        B1     E1         2           204044   0.000       Short\n",
      "1        B2     E2         1             2000   0.050       Short\n",
      "2        B3     E2         5             1230   0.034       Short\n",
      "3        B4     E3        15             1000   0.000        Long\n",
      "4        B5     E3         7            32232   0.070        Long\n"
     ]
    },
    {
     "name": "stderr",
     "output_type": "stream",
     "text": [
      "C:\\Users\\User\\Anaconda3\\lib\\site-packages\\ipykernel_launcher.py:15: SettingWithCopyWarning: \n",
      "A value is trying to be set on a copy of a slice from a DataFrame\n",
      "\n",
      "See the caveats in the documentation: http://pandas.pydata.org/pandas-docs/stable/indexing.html#indexing-view-versus-copy\n",
      "  from ipykernel import kernelapp as app\n"
     ]
    },
    {
     "data": {
      "text/html": [
       "<div>\n",
       "<style scoped>\n",
       "    .dataframe tbody tr th:only-of-type {\n",
       "        vertical-align: middle;\n",
       "    }\n",
       "\n",
       "    .dataframe tbody tr th {\n",
       "        vertical-align: top;\n",
       "    }\n",
       "\n",
       "    .dataframe thead th {\n",
       "        text-align: right;\n",
       "    }\n",
       "</style>\n",
       "<table border=\"1\" class=\"dataframe\">\n",
       "  <thead>\n",
       "    <tr style=\"text-align: right;\">\n",
       "      <th></th>\n",
       "      <th>maturity</th>\n",
       "      <th>amt_outstanding</th>\n",
       "      <th>coupon</th>\n",
       "    </tr>\n",
       "  </thead>\n",
       "  <tbody>\n",
       "    <tr>\n",
       "      <th>count</th>\n",
       "      <td>5.000000</td>\n",
       "      <td>5.000000</td>\n",
       "      <td>5.000000</td>\n",
       "    </tr>\n",
       "    <tr>\n",
       "      <th>mean</th>\n",
       "      <td>6.000000</td>\n",
       "      <td>48101.200000</td>\n",
       "      <td>0.030800</td>\n",
       "    </tr>\n",
       "    <tr>\n",
       "      <th>std</th>\n",
       "      <td>5.567764</td>\n",
       "      <td>88191.186426</td>\n",
       "      <td>0.030874</td>\n",
       "    </tr>\n",
       "    <tr>\n",
       "      <th>min</th>\n",
       "      <td>1.000000</td>\n",
       "      <td>1000.000000</td>\n",
       "      <td>0.000000</td>\n",
       "    </tr>\n",
       "    <tr>\n",
       "      <th>25%</th>\n",
       "      <td>2.000000</td>\n",
       "      <td>1230.000000</td>\n",
       "      <td>0.000000</td>\n",
       "    </tr>\n",
       "    <tr>\n",
       "      <th>50%</th>\n",
       "      <td>5.000000</td>\n",
       "      <td>2000.000000</td>\n",
       "      <td>0.034000</td>\n",
       "    </tr>\n",
       "    <tr>\n",
       "      <th>75%</th>\n",
       "      <td>7.000000</td>\n",
       "      <td>32232.000000</td>\n",
       "      <td>0.050000</td>\n",
       "    </tr>\n",
       "    <tr>\n",
       "      <th>max</th>\n",
       "      <td>15.000000</td>\n",
       "      <td>204044.000000</td>\n",
       "      <td>0.070000</td>\n",
       "    </tr>\n",
       "  </tbody>\n",
       "</table>\n",
       "</div>"
      ],
      "text/plain": [
       "        maturity  amt_outstanding    coupon\n",
       "count   5.000000         5.000000  5.000000\n",
       "mean    6.000000     48101.200000  0.030800\n",
       "std     5.567764     88191.186426  0.030874\n",
       "min     1.000000      1000.000000  0.000000\n",
       "25%     2.000000      1230.000000  0.000000\n",
       "50%     5.000000      2000.000000  0.034000\n",
       "75%     7.000000     32232.000000  0.050000\n",
       "max    15.000000    204044.000000  0.070000"
      ]
     },
     "execution_count": 8,
     "metadata": {},
     "output_type": "execute_result"
    }
   ],
   "source": [
    "# Задание 8\n",
    "\n",
    "import pandas as pd\n",
    "bonds = {'bond_name':        ['B1', 'B2', 'B3', 'B4', 'B5'],\n",
    "         'issuer':           ['E1', 'E2', 'E2',  'E3', 'E3'],\n",
    "         'maturity':         [2, 1, 5, 15, 7],\n",
    "         'amt_outstanding':  [204044, 2000, 1230, 1000, 32232],\n",
    "         'coupon':           [0, 0.05,0.034, 0, 0.07] }\n",
    "# a)\n",
    "df=pd.DataFrame(bonds)\n",
    "# b)\n",
    "print(df['issuer'].value_counts())\n",
    "# c)\n",
    "df['mat_segment']='Long'\n",
    "df['mat_segment'][df['maturity']<=5]='Short'\n",
    "print(df)\n",
    "# d)\n",
    "df.describe()"
   ]
  },
  {
   "cell_type": "code",
   "execution_count": 9,
   "metadata": {},
   "outputs": [],
   "source": [
    "# Задание 9\n",
    "# сохранение в текущую папку\n",
    "\n",
    "path=\"\";\n",
    "name='table';\n",
    "df.to_csv(path+name+'.csv',sep=';')"
   ]
  },
  {
   "cell_type": "code",
   "execution_count": 11,
   "metadata": {},
   "outputs": [
    {
     "data": {
      "image/png": "[encoded data removed]",
      "text/plain": [
       "<Figure size 432x288 with 2 Axes>"
      ]
     },
     "metadata": {
      "needs_background": "light"
     },
     "output_type": "display_data"
    }
   ],
   "source": [
    "# Задание 10\n",
    "\n",
    "commodity=[1,2,3,4,5]\n",
    "men=[7,8,9,10,11]\n",
    "utility=[i**2 for i in commodity]\n",
    "\n",
    "import matplotlib.pyplot as plt\n",
    "\n",
    "axes1=['Commodity','Men','Utility']\n",
    "\n",
    "plt.subplot(2,1,1)\n",
    "plt.plot( commodity,men,'r-.')\n",
    "plt.xlabel(axes1[0])\n",
    "plt.ylabel(axes1[1])\n",
    "\n",
    "plt.subplot(2,1,2) \n",
    "plt.plot( commodity,utility,'b-.')\n",
    "plt.xlabel(axes1[0])\n",
    "plt.ylabel(axes1[2])\n",
    "\n",
    "plt.show()"
   ]
  }
 ],
 "metadata": {
  "kernelspec": {
   "display_name": "Python 3",
   "language": "python",
   "name": "python3"
  },
  "language_info": {
   "codemirror_mode": {
    "name": "ipython",
    "version": 3
   },
   "file_extension": ".py",
   "mimetype": "text/x-python",
   "name": "python",
   "nbconvert_exporter": "python",
   "pygments_lexer": "ipython3",
   "version": "3.7.3"
  }
 },
 "nbformat": 4,
 "nbformat_minor": 2
}
